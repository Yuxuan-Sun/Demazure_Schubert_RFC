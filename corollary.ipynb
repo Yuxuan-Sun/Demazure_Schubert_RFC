{
 "cells": [
  {
   "cell_type": "code",
   "execution_count": 1,
   "metadata": {},
   "outputs": [],
   "source": [
    "def is_sorted(lst):\n",
    "    for i, el in enumerate(lst[1:]):\n",
    "        if el < lst[i]: # i is the index of the previous element\n",
    "            return False\n",
    "    return True"
   ]
  },
  {
   "cell_type": "code",
   "execution_count": 2,
   "metadata": {},
   "outputs": [],
   "source": [
    "def RFC(p, n=-1):\n",
    "    #input: p: a reduced word in array, \n",
    "    #       n: number of blocks, default: length of reduced word - 1\n",
    "    #output: a 2-d array, whose element is a block, starting at the right side\n",
    "    if n == -1: n = 2 #len(p)-1\n",
    "    result = []\n",
    "    for comp in Compositions(len(p), length=n, min_part=0).list():\n",
    "        begin = 0\n",
    "        current = []\n",
    "        for l in comp:\n",
    "            current.append(p[begin: begin+l])\n",
    "            begin = begin+l\n",
    "            \n",
    "        #test whether current is a legal RFC\n",
    "        flag = True\n",
    "        for i,c in enumerate(current):\n",
    "            #whether each block is sorted: RF condition\n",
    "            if is_sorted(c) == False:\n",
    "                flag = False\n",
    "                break\n",
    "            #whether first element in each block >= its block index: RFC condition\n",
    "            if len(c) != 0 and c[0] < (n-i):\n",
    "                flag = False\n",
    "                break\n",
    "        if flag == True: result.append(current)\n",
    "    return result"
   ]
  },
  {
   "cell_type": "code",
   "execution_count": 3,
   "metadata": {},
   "outputs": [],
   "source": [
    "def big(e,A):\n",
    "    #A is ascendingly sorted\n",
    "    #return -1 if no such element is found\n",
    "    for i,j in enumerate(A):\n",
    "        if j > e:\n",
    "            return i\n",
    "    return -1"
   ]
  },
  {
   "cell_type": "code",
   "execution_count": 4,
   "metadata": {},
   "outputs": [],
   "source": [
    "import copy\n",
    "def is_ei_zero(rfc):\n",
    "    #if ei(rfc) = 0, return true, otherwise false\n",
    "    for i in range(len(rfc)-1):\n",
    "        \n",
    "        if len(rfc[i]) > len(rfc[i+1]): return False #the lemma to quickly filter\n",
    "        \n",
    "        left = copy.deepcopy(rfc[i])\n",
    "        right = copy.deepcopy(rfc[i+1])\n",
    "        \n",
    "        #matching\n",
    "        for j in reversed(range(len(right))): #start by the largest element in right\n",
    "            current = big(right[j],left) #smallest element in left that's bigger than right[i]\n",
    "            if current != -1:\n",
    "                del right[j]\n",
    "                del left[current]\n",
    "        \n",
    "        if len(left) != 0: return False\n",
    "        \n",
    "    return True\n"
   ]
  },
  {
   "cell_type": "code",
   "execution_count": 5,
   "metadata": {},
   "outputs": [],
   "source": [
    "def numberDescents(p):\n",
    "    descend = 0\n",
    "    for i in range(len(p)-1):\n",
    "        if p[i] > p[i+1]: descend += 1\n",
    "    return descend"
   ]
  },
  {
   "cell_type": "code",
   "execution_count": 6,
   "metadata": {},
   "outputs": [],
   "source": [
    "def highest_weight(p,n=-1):\n",
    "    #given a permutation(an array), return its highest-weight RFC and corresponding reduced word\n",
    "    #n is the number of blocks, default as the length of reduced words - 1\n",
    "    rws = Permutation(p).reduced_words()\n",
    "    if n == -1: n = numberDescents(rws[0])+1 #len(rws[0])-1\n",
    "    print(\"===============\")\n",
    "    count = 0\n",
    "    for rw in rws:\n",
    "        for rfc in RFC(rw,n): #number of blocks default as len(rw)-1\n",
    "            if is_ei_zero(rfc):\n",
    "                count += 1;\n",
    "                print(rw)\n",
    "                print(rfc)\n",
    "#     if count > 2: print(\"this permutation \",p, \"has more than 2 hightest weight\" )\n",
    "    print(\"this permutation \",p, \"has \",count,\" highest weight\" )"
   ]
  },
  {
   "cell_type": "code",
   "execution_count": 7,
   "metadata": {},
   "outputs": [],
   "source": [
    "n = 5 #w in S_n\n",
    "w = Permutation([2,1,5,4,3])"
   ]
  },
  {
   "cell_type": "code",
   "execution_count": 8,
   "metadata": {},
   "outputs": [
    {
     "name": "stdout",
     "output_type": "stream",
     "text": [
      "===============\n",
      "[3, 4, 1, 3]\n",
      "[[], [], [3, 4], [1, 3]]\n",
      "[4, 3, 1, 4]\n",
      "[[], [4], [3], [1, 4]]\n",
      "[4, 1, 3, 4]\n",
      "[[], [], [4], [1, 3, 4]]\n",
      "this permutation  [2, 1, 5, 4, 3] has  3  highest weight\n"
     ]
    }
   ],
   "source": [
    "highest_weight(w.inverse(),n-1)"
   ]
  },
  {
   "cell_type": "code",
   "execution_count": 9,
   "metadata": {},
   "outputs": [
    {
     "name": "stdout",
     "output_type": "stream",
     "text": [
      "Defining x1, x2, x3, x4, x5\n"
     ]
    }
   ],
   "source": [
    "R = PolynomialRing(ZZ, ['x1','x2','x3','x4', 'x5'])\n",
    "R.inject_variables()"
   ]
  },
  {
   "cell_type": "code",
   "execution_count": 10,
   "metadata": {},
   "outputs": [
    {
     "data": {
      "text/plain": [
       "x0^3*x1 + x0^2*x1^2 + x0^3*x2 + 2*x0^2*x1*x2 + x0*x1^2*x2 + x0^2*x2^2 + x0*x1*x2^2 + x0^3*x3 + x0^2*x1*x3 + x0*x1^2*x3 + x0^2*x2*x3 + x0*x1*x2*x3 + x0*x2^2*x3"
      ]
     },
     "execution_count": 10,
     "metadata": {},
     "output_type": "execute_result"
    }
   ],
   "source": [
    "X = SchubertPolynomialRing(ZZ)\n",
    "schubPoly = X(w).expand()\n",
    "schubPoly"
   ]
  },
  {
   "cell_type": "code",
   "execution_count": 11,
   "metadata": {},
   "outputs": [
    {
     "data": {
      "text/plain": [
       "x1^3*x2 + x1^2*x2^2 + x1^3*x3 + 2*x1^2*x2*x3 + x1*x2^2*x3 + x1^2*x3^2 + x1*x2*x3^2 + x1^3*x4 + x1^2*x2*x4 + x1*x2^2*x4 + x1^2*x3*x4 + x1*x2*x3*x4 + x1*x3^2*x4"
      ]
     },
     "execution_count": 11,
     "metadata": {},
     "output_type": "execute_result"
    }
   ],
   "source": [
    "schubPoly = x1^3*x2 + x1^2*x2^2 + x1^3*x3 + 2*x1^2*x2*x3 + x1*x2^2*x3 + x1^2*x3^2 + x1*x2*x3^2 + x1^3*x4 + x1^2*x2*x4 + x1*x2^2*x4 + x1^2*x3*x4 + x1*x2*x3*x4 + x1*x3^2*x4\n",
    "schubPoly"
   ]
  },
  {
   "cell_type": "code",
   "execution_count": 12,
   "metadata": {},
   "outputs": [
    {
     "data": {
      "text/plain": [
       "x1^2*x2*x3 + x1*x2^2*x3 + x1*x2*x3^2 + x1^2*x2*x4 + x1*x2^2*x4 + x1^2*x3*x4 + x1*x2*x3*x4 + x1*x3^2*x4"
      ]
     },
     "execution_count": 12,
     "metadata": {},
     "output_type": "execute_result"
    }
   ],
   "source": [
    "T = crystals.Tableaux(['A',3],shape=[2,1,1])\n",
    "T.demazure_character([2,1,3])"
   ]
  },
  {
   "cell_type": "code",
   "execution_count": 13,
   "metadata": {},
   "outputs": [],
   "source": [
    "first = x1^2*x2*x3 + x1*x2^2*x3 + x1*x2*x3^2 + x1^2*x2*x4 + x1*x2^2*x4 + x1^2*x3*x4 + x1*x2*x3*x4 + x1*x3^2*x4"
   ]
  },
  {
   "cell_type": "code",
   "execution_count": 14,
   "metadata": {},
   "outputs": [
    {
     "data": {
      "text/plain": [
       "x1^2*x2^2 + x1^2*x2*x3 + x1^2*x3^2"
      ]
     },
     "execution_count": 14,
     "metadata": {},
     "output_type": "execute_result"
    }
   ],
   "source": [
    "T = crystals.Tableaux(['A',2], shape = [2,2])\n",
    "T.demazure_character([2])"
   ]
  },
  {
   "cell_type": "code",
   "execution_count": 15,
   "metadata": {},
   "outputs": [],
   "source": [
    "second = x1^2*x2^2 + x1^2*x2*x3 + x1^2*x3^2"
   ]
  },
  {
   "cell_type": "code",
   "execution_count": 16,
   "metadata": {},
   "outputs": [
    {
     "data": {
      "text/plain": [
       "x1^3*x2 + x1^3*x3 + x1^3*x4"
      ]
     },
     "execution_count": 16,
     "metadata": {},
     "output_type": "execute_result"
    }
   ],
   "source": [
    "T = crystals.Tableaux(['A',3],shape=[3,1])\n",
    "T.demazure_character([3,2])"
   ]
  },
  {
   "cell_type": "code",
   "execution_count": 17,
   "metadata": {},
   "outputs": [],
   "source": [
    "third = x1^3*x2 + x1^3*x3 + x1^3*x4"
   ]
  },
  {
   "cell_type": "code",
   "execution_count": 18,
   "metadata": {},
   "outputs": [],
   "source": [
    "keySum = first + second + third"
   ]
  },
  {
   "cell_type": "code",
   "execution_count": 19,
   "metadata": {},
   "outputs": [
    {
     "data": {
      "text/plain": [
       "True"
      ]
     },
     "execution_count": 19,
     "metadata": {},
     "output_type": "execute_result"
    }
   ],
   "source": [
    "#check the corollary\n",
    "keySum == schubPoly"
   ]
  },
  {
   "cell_type": "code",
   "execution_count": null,
   "metadata": {},
   "outputs": [],
   "source": []
  }
 ],
 "metadata": {
  "kernelspec": {
   "display_name": "SageMath 9.5",
   "language": "sage",
   "name": "sagemath-9.5"
  },
  "language_info": {
   "codemirror_mode": {
    "name": "ipython",
    "version": 3
   },
   "file_extension": ".py",
   "mimetype": "text/x-python",
   "name": "python",
   "nbconvert_exporter": "python",
   "pygments_lexer": "ipython3",
   "version": "3.9.9"
  }
 },
 "nbformat": 4,
 "nbformat_minor": 4
}
